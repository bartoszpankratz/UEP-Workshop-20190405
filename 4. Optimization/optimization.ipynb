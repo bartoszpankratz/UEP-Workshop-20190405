{
 "cells": [
  {
   "cell_type": "code",
   "execution_count": null,
   "metadata": {
    "collapsed": true
   },
   "outputs": [],
   "source": [
    "# Bogumił Kamiński, 2019-03-25\n",
    "\n",
    "using LinearAlgebra\n",
    "using Random\n",
    "using ForwardDiff\n",
    "using DataFrames\n",
    "using GLM"
   ]
  },
  {
   "cell_type": "code",
   "execution_count": null,
   "metadata": {
    "collapsed": true
   },
   "outputs": [],
   "source": [
    "function marquardt(f, x₀; ε=1e-6, maxiter=1000, λ=10.0^4, α=2)\n",
    "    x = x₀\n",
    "    fx = f(x)\n",
    "    converged = false\n",
    "    i = 0\n",
    "    while i < maxiter\n",
    "        i += 1\n",
    "        ∇f = ForwardDiff.gradient(f, x)\n",
    "        if norm(∇f) ≤ ε\n",
    "            converged = true\n",
    "            break\n",
    "        end\n",
    "        ∇²f = ForwardDiff.hessian(f, x)\n",
    "        x′ = x - (∇²f + λ*I) \\ ∇f\n",
    "        fx′ = f(x′)\n",
    "        if fx′ < fx\n",
    "            λ *= 0.5\n",
    "            fx = fx′\n",
    "            x = x′\n",
    "        else\n",
    "            λ *= 2.0\n",
    "        end\n",
    "    end\n",
    "    (x=x, fx=fx, converged=converged, iters=i)\n",
    "end"
   ]
  },
  {
   "cell_type": "code",
   "execution_count": null,
   "metadata": {
    "collapsed": true
   },
   "outputs": [],
   "source": [
    "rosenbrock(x) = sum((1-x[i])^2 + 100(x[i+1]-x[i]^2)^2 for i in 1:length(x)-1)"
   ]
  },
  {
   "cell_type": "code",
   "execution_count": null,
   "metadata": {
    "collapsed": true
   },
   "outputs": [],
   "source": [
    "Random.seed!(1234)\n",
    "x = rand(20);\n",
    "marquardt(rosenbrock, x)"
   ]
  },
  {
   "cell_type": "code",
   "execution_count": null,
   "metadata": {
    "collapsed": true
   },
   "outputs": [],
   "source": [
    "Random.seed!(123)\n",
    "N = 1000\n",
    "df = DataFrame(rand(N, 4))\n",
    "df.y = sum.(eachrow(df)) + randn(N);\n",
    "lm(@formula(y~x1+x2+x3+x4), df)"
   ]
  },
  {
   "cell_type": "code",
   "execution_count": null,
   "metadata": {
    "collapsed": true
   },
   "outputs": [],
   "source": [
    "# This is not very efficient, but is good enough in our case\n",
    "function ssq(x)\n",
    "    m = Matrix(df)[:, startswith.(string.(names(df)), \"x\")]\n",
    "    norm(df.y - fill(x[1], nrow(df)) - m * x[2:end])\n",
    "end\n",
    "marquardt(ssq, rand(5))"
   ]
  }
 ],
 "metadata": {
  "kernelspec": {
   "display_name": "Julia 1.0.0",
   "language": "julia",
   "name": "julia-1.0"
  },
  "language_info": {
   "file_extension": ".jl",
   "mimetype": "application/julia",
   "name": "julia",
   "version": "1.0.0"
  }
 },
 "nbformat": 4,
 "nbformat_minor": 2
}
