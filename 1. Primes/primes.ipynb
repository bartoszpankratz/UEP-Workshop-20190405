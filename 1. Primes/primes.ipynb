{
 "cells": [
  {
   "cell_type": "code",
   "execution_count": null,
   "metadata": {},
   "outputs": [],
   "source": [
    "# Bogumił Kamiński, 2019-03-25\n",
    "\n",
    "function sieve(n)\n",
    "    isprime = trues(n)\n",
    "    isprime[1] = false\n",
    "    for i in 2:isqrt(n)\n",
    "        if isprime[i]\n",
    "            for j in i^2:i:n\n",
    "                isprime[j] = false\n",
    "            end\n",
    "        end\n",
    "    end\n",
    "    return filter(i -> isprime[i], 1:n)\n",
    "end"
   ]
  },
  {
   "cell_type": "code",
   "execution_count": null,
   "metadata": {},
   "outputs": [],
   "source": [
    "sieve(100)"
   ]
  },
  {
   "cell_type": "code",
   "execution_count": null,
   "metadata": {},
   "outputs": [],
   "source": [
    "@time length(sieve(10^6))"
   ]
  }
 ],
 "metadata": {
  "kernelspec": {
   "display_name": "Julia 1.0.0",
   "language": "julia",
   "name": "julia-1.0"
  },
  "language_info": {
   "file_extension": ".jl",
   "mimetype": "application/julia",
   "name": "julia",
   "version": "1.0.0"
  }
 },
 "nbformat": 4,
 "nbformat_minor": 2
}
