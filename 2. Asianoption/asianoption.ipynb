{
 "cells": [
  {
   "cell_type": "code",
   "execution_count": null,
   "metadata": {
    "collapsed": true
   },
   "outputs": [],
   "source": [
    "# Bogumił Kamiński, 2019-03-25\n",
    "\n",
    "using Statistics, Distributions"
   ]
  },
  {
   "cell_type": "code",
   "execution_count": null,
   "metadata": {
    "collapsed": true
   },
   "outputs": [],
   "source": [
    "function v_asian_sample1(T, r, K, σ, X₀, m)\n",
    "    X = X₀\n",
    "    hatx = zero(X)\n",
    "    Δ = T / m\n",
    "    for i in 1:m\n",
    "        X *= exp((r-σ^2/2)*Δ + σ*√Δ*randn())\n",
    "        hatx += X\n",
    "    end\n",
    "    exp(-r*T)*max(hatx/m - K, 0)\n",
    "end"
   ]
  },
  {
   "cell_type": "code",
   "execution_count": null,
   "metadata": {
    "collapsed": true
   },
   "outputs": [],
   "source": [
    "function v_asian_sample2(T, r, K, σ, X₀, m)\n",
    "    Δ = T / m\n",
    "    X = rand(Normal((r-σ^2/2)*Δ, σ*√Δ), m)\n",
    "    exp(-r*T)*max(mean(exp.(cumsum(X))) * X₀ - K, 0)\n",
    "end"
   ]
  },
  {
   "cell_type": "code",
   "execution_count": null,
   "metadata": {
    "collapsed": true
   },
   "outputs": [],
   "source": [
    "function v_asian(T, r, K, σ, X₀, m, n, sampler)\n",
    "    mean(sampler(T, r, K, σ, X₀, m) for i in 1:n)\n",
    "end"
   ]
  },
  {
   "cell_type": "code",
   "execution_count": null,
   "metadata": {
    "collapsed": true
   },
   "outputs": [],
   "source": [
    "for f in [v_asian_sample1, v_asian_sample2]\n",
    "    @time println(v_asian(1.0, 0.05, 55.0, 0.3, 50.0, 10_000, 10_000, f))\n",
    "end"
   ]
  }
 ],
 "metadata": {
  "kernelspec": {
   "display_name": "Julia 1.0.0",
   "language": "julia",
   "name": "julia-1.0"
  },
  "language_info": {
   "file_extension": ".jl",
   "mimetype": "application/julia",
   "name": "julia",
   "version": "1.0.0"
  }
 },
 "nbformat": 4,
 "nbformat_minor": 2
}
